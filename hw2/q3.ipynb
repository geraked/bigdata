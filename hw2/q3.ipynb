{
  "nbformat": 4,
  "nbformat_minor": 0,
  "metadata": {
    "colab": {
      "name": "q3.ipynb",
      "provenance": [],
      "collapsed_sections": []
    },
    "kernelspec": {
      "name": "python3",
      "display_name": "Python 3"
    },
    "language_info": {
      "name": "python"
    }
  },
  "cells": [
    {
      "cell_type": "code",
      "execution_count": 1,
      "metadata": {
        "colab": {
          "base_uri": "https://localhost:8080/"
        },
        "id": "bavQtSwx9CrS",
        "outputId": "24655c42-72a7-44a3-aaf6-ff555b7741fc"
      },
      "outputs": [
        {
          "output_type": "stream",
          "name": "stdout",
          "text": [
            "Downloading...\n",
            "From: https://drive.google.com/uc?id=1kTJmHH3qEyivtSJvnVUMYpWnZcQl5XaV\n",
            "To: /content/Bigdata_hw2_datasets.zip\n",
            "100% 6.28M/6.28M [00:00<00:00, 31.2MB/s]\n"
          ]
        }
      ],
      "source": [
        "!pip install --upgrade --no-cache-dir gdown >/dev/null\n",
        "!gdown 1kTJmHH3qEyivtSJvnVUMYpWnZcQl5XaV"
      ]
    },
    {
      "cell_type": "code",
      "source": [
        "!unzip Bigdata_hw2_datasets.zip"
      ],
      "metadata": {
        "colab": {
          "base_uri": "https://localhost:8080/"
        },
        "id": "EIyWM-Iz9SKd",
        "outputId": "4a5777ad-c597-484c-9a48-d5362b03764f"
      },
      "execution_count": 2,
      "outputs": [
        {
          "output_type": "stream",
          "name": "stdout",
          "text": [
            "Archive:  Bigdata_hw2_datasets.zip\n",
            "   creating: Bigdata_hw2_datasets/\n",
            "   creating: Bigdata_hw2_datasets/q1/\n",
            "  inflating: Bigdata_hw2_datasets/q1/stream_data_dgim.txt  \n",
            "   creating: Bigdata_hw2_datasets/q2/\n",
            "  inflating: Bigdata_hw2_datasets/q2/games.csv  \n",
            "  inflating: Bigdata_hw2_datasets/q2/ratings.csv  \n",
            "   creating: Bigdata_hw2_datasets/q3/\n",
            "  inflating: Bigdata_hw2_datasets/q3/c1.txt  \n",
            "  inflating: Bigdata_hw2_datasets/q3/c2.txt  \n",
            "  inflating: Bigdata_hw2_datasets/q3/data.txt  \n"
          ]
        }
      ]
    },
    {
      "cell_type": "code",
      "source": [
        "!pip install pyspark"
      ],
      "metadata": {
        "colab": {
          "base_uri": "https://localhost:8080/"
        },
        "id": "DW5BNgLH9W_Z",
        "outputId": "6d3880e7-cc4a-426a-9f03-f0ebbac74749"
      },
      "execution_count": 3,
      "outputs": [
        {
          "output_type": "stream",
          "name": "stdout",
          "text": [
            "Collecting pyspark\n",
            "  Downloading pyspark-3.2.1.tar.gz (281.4 MB)\n",
            "\u001b[K     |████████████████████████████████| 281.4 MB 37 kB/s \n",
            "\u001b[?25hCollecting py4j==0.10.9.3\n",
            "  Downloading py4j-0.10.9.3-py2.py3-none-any.whl (198 kB)\n",
            "\u001b[K     |████████████████████████████████| 198 kB 57.2 MB/s \n",
            "\u001b[?25hBuilding wheels for collected packages: pyspark\n",
            "  Building wheel for pyspark (setup.py) ... \u001b[?25l\u001b[?25hdone\n",
            "  Created wheel for pyspark: filename=pyspark-3.2.1-py2.py3-none-any.whl size=281853642 sha256=5bc0055ada1372b18e5885f6f14d7d6e12cf623f23b3500c540e1a93b444fd61\n",
            "  Stored in directory: /root/.cache/pip/wheels/9f/f5/07/7cd8017084dce4e93e84e92efd1e1d5334db05f2e83bcef74f\n",
            "Successfully built pyspark\n",
            "Installing collected packages: py4j, pyspark\n",
            "Successfully installed py4j-0.10.9.3 pyspark-3.2.1\n"
          ]
        }
      ]
    },
    {
      "cell_type": "code",
      "source": [
        "from pyspark import SparkContext\n",
        "import matplotlib.pyplot as plt\n",
        "import math\n",
        "\n",
        "INPUT_DIR = 'Bigdata_hw2_datasets/q3/'\n",
        "DATA_FILE = INPUT_DIR + 'data.txt'\n",
        "C1_FILE = INPUT_DIR + 'c1.txt'\n",
        "C2_FILE = INPUT_DIR + 'c2.txt'\n",
        "\n",
        "MAX_ITER = 20\n",
        "K = 10\n",
        "NDATA = 4601\n",
        "NDIM = 58"
      ],
      "metadata": {
        "id": "z_Zjugrv9uZH"
      },
      "execution_count": 4,
      "outputs": []
    },
    {
      "cell_type": "code",
      "source": [
        "def l1(u, v):\n",
        "    \"\"\"Manhattan Distance\"\"\"\n",
        "    return sum(map(lambda a, b: abs(a - b), u, v))\n",
        "\n",
        "\n",
        "def l2(u, v):\n",
        "    \"\"\"Euclidian distance\"\"\"\n",
        "    return math.sqrt(sum(map(lambda a, b: (a - b) ** 2, u, v)))\n",
        "\n",
        "\n",
        "def find_centroid(p, centroids, dist_func, itcost):\n",
        "    \"\"\"Find the closest centroid for p.\"\"\"\n",
        "    mind = float('inf')\n",
        "    mini = -1\n",
        "    for ci, cp in enumerate(centroids):\n",
        "        d = dist_func(p, cp)\n",
        "        if d < mind:\n",
        "            mind = d\n",
        "            mini = ci\n",
        "    itcost += mind ** 2\n",
        "    return mini, p\n",
        "\n",
        "\n",
        "def agg_uv(a, p):\n",
        "    \"\"\"Calculate the sum vector of two points and their counts.\"\"\"\n",
        "    s = list(map(lambda x1, x2: x1 + x2, a[0], p))\n",
        "    return s, a[1] + 1\n",
        "\n",
        "\n",
        "def agg_uu(a, b):\n",
        "    \"\"\"Calculate the sum vector of two points and their counts.\"\"\"\n",
        "    s = list(map(lambda x1, x2: x1 + x2, a[0], b[0]))\n",
        "    return s, a[1] + b[1]\n",
        "\n",
        "\n",
        "def change_perc(costs):\n",
        "    return abs(costs[10] - costs[0]) / costs[0]\n",
        "\n",
        "\n",
        "def kmeans(sc, data, cfile, dist_func):\n",
        "    centroids = []\n",
        "    costs = []\n",
        "    itcost = sc.accumulator(0)\n",
        "\n",
        "    # Load the centroid file\n",
        "    with open(cfile) as f:\n",
        "        for l in f:\n",
        "            centroids.append(list(map(float, l.split())))\n",
        "\n",
        "    for it in range(MAX_ITER):\n",
        "        # Assign each point to the cluster with closest centroid.\n",
        "        # Consider centroid index as the key and point as the value.\n",
        "        ci_p = data.map(lambda p: find_centroid(\n",
        "            p, centroids, dist_func, itcost))\n",
        "\n",
        "        # Calculate sum vector and the number of points in each cluster.\n",
        "        ci_sv_cnt = ci_p.aggregateByKey(\n",
        "            ([0] * NDIM, 0), agg_uv, agg_uu)\n",
        "\n",
        "        # Iterate through the clusters.\n",
        "        # Recompute the centroid of each cluster as the mean of all its points.\n",
        "        for ci, sv_cnt in ci_sv_cnt.collect():\n",
        "            sv, cnt = sv_cnt\n",
        "            centroids[ci] = [s / cnt for s in sv]\n",
        "\n",
        "        # Store the cost and reset it for new iteration.\n",
        "        costs.append(itcost.value)\n",
        "        itcost.value = 0\n",
        "\n",
        "    return costs"
      ],
      "metadata": {
        "id": "VhhLRDTV-jqn"
      },
      "execution_count": 12,
      "outputs": []
    },
    {
      "cell_type": "code",
      "source": [
        "# Create spark context and load data.\n",
        "sc = SparkContext.getOrCreate()\n",
        "data = sc.textFile(DATA_FILE)\n",
        "data = data.map(lambda l: list(map(float, l.split())))\n",
        "iters = list((range(1, MAX_ITER + 1)))"
      ],
      "metadata": {
        "id": "ViLWxWm32CmU"
      },
      "execution_count": 6,
      "outputs": []
    },
    {
      "cell_type": "code",
      "source": [
        "c1_l2_costs = kmeans(sc, data, C1_FILE, l2)\n",
        "c2_l2_costs = kmeans(sc, data, C2_FILE, l2)\n",
        "\n",
        "print(\"C1 Costs:\", c1_l2_costs)\n",
        "print(\"C2 Costs:\", c2_l2_costs)\n",
        "print(\"C1 Change:\", change_perc(c1_l2_costs))\n",
        "print(\"C2 Change:\", change_perc(c2_l2_costs))\n",
        "\n",
        "plt.title(\"K-means using Euclidian Distance\")\n",
        "plt.plot(iters, c1_l2_costs, label=\"C1\")\n",
        "plt.plot(iters, c2_l2_costs, label=\"C2\")\n",
        "plt.xlabel(\"Iteration\")\n",
        "plt.ylabel(\"Cost\")\n",
        "plt.legend()\n",
        "plt.show()"
      ],
      "metadata": {
        "colab": {
          "base_uri": "https://localhost:8080/",
          "height": 388
        },
        "id": "Qs3vCaG82alG",
        "outputId": "fdce2d0b-d273-4492-a1aa-8567f43bbb10"
      },
      "execution_count": 13,
      "outputs": [
        {
          "output_type": "stream",
          "name": "stdout",
          "text": [
            "C1 Costs: [623660345.3064115, 509862908.2975454, 485480681.8720084, 463997011.68501294, 460969266.57299685, 460537847.9827684, 460313099.6535447, 460003523.8894082, 459570539.31773525, 459021103.3422909, 458490656.19198126, 457944232.5879751, 457558005.19867724, 457290136.35230196, 457050555.0595629, 456892235.6153559, 456703630.7370345, 456404203.01897514, 456177800.541994, 455986871.02734685]\n",
            "C2 Costs: [438747790.02791756, 249803933.62600276, 194494814.40631253, 169804841.4515432, 156295748.80627593, 149094208.10896596, 142508531.61961532, 132303869.40652987, 117170969.83719076, 108547377.17857003, 102237203.3179959, 98278015.74975666, 95630226.12177408, 93793314.051193, 92377131.96821064, 91541606.25423889, 91045573.83042455, 90752240.10140808, 90470170.18122731, 90216416.1756313]\n",
            "C1 Change: 0.2648391714456055\n",
            "C2 Change: 0.7669795594605946\n"
          ]
        },
        {
          "output_type": "display_data",
          "data": {
            "text/plain": [
              "<Figure size 432x288 with 1 Axes>"
            ],
            "image/png": "[encoded data removed]"
          },
          "metadata": {
            "needs_background": "light"
          }
        }
      ]
    },
    {
      "cell_type": "code",
      "source": [
        "c1_l1_costs = kmeans(sc, data, C1_FILE, l1)\n",
        "c2_l1_costs = kmeans(sc, data, C2_FILE, l1)\n",
        "\n",
        "print(\"C1 Costs:\", c1_l1_costs)\n",
        "print(\"C2 Costs:\", c2_l1_costs)\n",
        "print(\"C1 Change:\", change_perc(c1_l1_costs))\n",
        "print(\"C2 Change:\", change_perc(c2_l1_costs))\n",
        "\n",
        "plt.title(\"K-means using Manhattan Distance\")\n",
        "plt.plot(iters, c1_l1_costs, label=\"C1\")\n",
        "plt.plot(iters, c2_l1_costs, label=\"C2\")\n",
        "plt.xlabel(\"Iteration\")\n",
        "plt.ylabel(\"Cost\")\n",
        "plt.legend()\n",
        "plt.show()"
      ],
      "metadata": {
        "colab": {
          "base_uri": "https://localhost:8080/",
          "height": 388
        },
        "id": "WwswaSfnIUhQ",
        "outputId": "2e819344-392e-4951-8552-819564da1f40"
      },
      "execution_count": 14,
      "outputs": [
        {
          "output_type": "stream",
          "name": "stdout",
          "text": [
            "C1 Costs: [911884445.1718692, 742776334.1127646, 710494810.194144, 691533974.0581697, 684107578.3598723, 679414600.2305121, 674715277.5707939, 661774250.0973034, 638253018.6656508, 534847013.70820457, 349879440.5947107, 321182673.4072134, 318741119.06619465, 316453910.3334702, 313858408.80319655, 312009204.70386994, 310765768.44007146, 308057164.01579016, 305352257.65883255, 303165896.02685046]\n",
            "C2 Costs: [655439563.7534091, 425797401.1688459, 340841790.15862554, 300225433.73989064, 288288125.2596762, 280744103.44819236, 263746381.6036476, 245483161.49866766, 210918225.27613884, 194368603.12692153, 187496282.87738794, 185418200.7572966, 183521866.8970892, 182150585.44948786, 181485856.88127467, 180706294.44807574, 179645731.17449278, 178877228.155527, 178431912.69330713, 178185258.5584315]\n",
            "C1 Change: 0.6163116473285533\n",
            "C2 Change: 0.7139381062020721\n"
          ]
        },
        {
          "output_type": "display_data",
          "data": {
            "text/plain": [
              "<Figure size 432x288 with 1 Axes>"
            ],
            "image/png": "[encoded data removed]"
          },
          "metadata": {
            "needs_background": "light"
          }
        }
      ]
    }
  ]
}
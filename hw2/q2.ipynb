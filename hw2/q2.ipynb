{
  "cells": [
    {
      "cell_type": "code",
      "execution_count": 1,
      "metadata": {
        "colab": {
          "base_uri": "https://localhost:8080/"
        },
        "id": "ju0Sz4l_lTXx",
        "outputId": "a946d68f-3d7a-4496-f1a6-db9fd8a3df1b"
      },
      "outputs": [
        {
          "output_type": "stream",
          "name": "stdout",
          "text": [
            "Downloading...\n",
            "From: https://drive.google.com/uc?id=1kTJmHH3qEyivtSJvnVUMYpWnZcQl5XaV\n",
            "To: /content/Bigdata_hw2_datasets.zip\n",
            "\r  0% 0.00/6.28M [00:00<?, ?B/s]\r 75% 4.72M/6.28M [00:00<00:00, 35.0MB/s]\r100% 6.28M/6.28M [00:00<00:00, 44.3MB/s]\n"
          ]
        }
      ],
      "source": [
        "!pip install --upgrade --no-cache-dir gdown >/dev/null\n",
        "!gdown 1kTJmHH3qEyivtSJvnVUMYpWnZcQl5XaV"
      ]
    },
    {
      "cell_type": "code",
      "execution_count": 2,
      "metadata": {
        "colab": {
          "base_uri": "https://localhost:8080/"
        },
        "id": "TuqVILq6lX5K",
        "outputId": "1fb6e2b8-419e-41b4-b0a6-5cd581a920a4"
      },
      "outputs": [
        {
          "output_type": "stream",
          "name": "stdout",
          "text": [
            "Archive:  Bigdata_hw2_datasets.zip\n",
            "   creating: Bigdata_hw2_datasets/\n",
            "   creating: Bigdata_hw2_datasets/q1/\n",
            "  inflating: Bigdata_hw2_datasets/q1/stream_data_dgim.txt  \n",
            "   creating: Bigdata_hw2_datasets/q2/\n",
            "  inflating: Bigdata_hw2_datasets/q2/games.csv  \n",
            "  inflating: Bigdata_hw2_datasets/q2/ratings.csv  \n",
            "   creating: Bigdata_hw2_datasets/q3/\n",
            "  inflating: Bigdata_hw2_datasets/q3/c1.txt  \n",
            "  inflating: Bigdata_hw2_datasets/q3/c2.txt  \n",
            "  inflating: Bigdata_hw2_datasets/q3/data.txt  \n"
          ]
        }
      ],
      "source": [
        "!unzip Bigdata_hw2_datasets.zip"
      ]
    },
    {
      "cell_type": "code",
      "source": [
        "!pip install pyspark"
      ],
      "metadata": {
        "colab": {
          "base_uri": "https://localhost:8080/"
        },
        "id": "EOYENOKUtWWV",
        "outputId": "38387eae-b791-4b28-8043-f8d07c3e12d4"
      },
      "execution_count": 3,
      "outputs": [
        {
          "output_type": "stream",
          "name": "stdout",
          "text": [
            "Collecting pyspark\n",
            "  Downloading pyspark-3.2.1.tar.gz (281.4 MB)\n",
            "\u001b[K     |████████████████████████████████| 281.4 MB 37 kB/s \n",
            "\u001b[?25hCollecting py4j==0.10.9.3\n",
            "  Downloading py4j-0.10.9.3-py2.py3-none-any.whl (198 kB)\n",
            "\u001b[K     |████████████████████████████████| 198 kB 43.5 MB/s \n",
            "\u001b[?25hBuilding wheels for collected packages: pyspark\n",
            "  Building wheel for pyspark (setup.py) ... \u001b[?25l\u001b[?25hdone\n",
            "  Created wheel for pyspark: filename=pyspark-3.2.1-py2.py3-none-any.whl size=281853642 sha256=fe62223a38a6aa7a207945c4ebc940d0581a764f5ca0fe0a0f2139f15085489f\n",
            "  Stored in directory: /root/.cache/pip/wheels/9f/f5/07/7cd8017084dce4e93e84e92efd1e1d5334db05f2e83bcef74f\n",
            "Successfully built pyspark\n",
            "Installing collected packages: py4j, pyspark\n",
            "Successfully installed py4j-0.10.9.3 pyspark-3.2.1\n"
          ]
        }
      ]
    },
    {
      "cell_type": "code",
      "source": [
        "from pyspark import SparkContext\n",
        "from tabulate import tabulate\n",
        "import math\n",
        "\n",
        "RATINGS_FILE = 'Bigdata_hw2_datasets/q2/ratings.csv'\n",
        "ITEMS_FILE = 'Bigdata_hw2_datasets/q2/games.csv'\n",
        "N = 5\n",
        "U1 = 5461\n",
        "U2 = 10140"
      ],
      "metadata": {
        "id": "-6Rjq6ffr8Ib"
      },
      "execution_count": 4,
      "outputs": []
    },
    {
      "cell_type": "code",
      "source": [
        "def map_items(l):\n",
        "    \"\"\"Consider item_id as the key and the list of users\n",
        "     rated for it as the value.\"\"\"\n",
        "    t = l.split(',')\n",
        "    key = 0\n",
        "    val = [(0, 0), ]\n",
        "    try:\n",
        "        key = int(t[0])\n",
        "        val = [(int(t[1]), int(t[2])), ]\n",
        "    except:\n",
        "        pass\n",
        "    return key, val\n",
        "\n",
        "\n",
        "def reduce_items(a, b):\n",
        "    \"\"\"Reduce in an ascending order to make the list value sorted.\"\"\"\n",
        "    if b[0][0] < a[0][0]:\n",
        "        return b + a\n",
        "    return a + b\n",
        "\n",
        "\n",
        "def map_users(l):\n",
        "    \"\"\"Consider user_id as the key and the list of rated\n",
        "     items as the value.\"\"\"\n",
        "    t = l.split(',')\n",
        "    key = 0\n",
        "    val = [(0, 0), ]\n",
        "    try:\n",
        "        key = int(t[1])\n",
        "        val = [(int(t[0]), int(t[2])), ]\n",
        "    except:\n",
        "        pass\n",
        "    return key, val\n",
        "\n",
        "\n",
        "def map_itdescs(l):\n",
        "    \"\"\"Consider item_id as the key and its title as the value.\"\"\"\n",
        "    t = l.split(',')\n",
        "    key = 0\n",
        "    val = ''\n",
        "    try:\n",
        "        key = int(t[0])\n",
        "        val = t[1].strip()\n",
        "    except:\n",
        "        pass\n",
        "    return key, val\n",
        "\n",
        "\n",
        "def print_table(rows):\n",
        "    \"\"\"Print the rows in a pretty table.\"\"\"\n",
        "    header = ['Game ID', 'Rate', 'Title']\n",
        "    rows = [header] + rows\n",
        "    table = tabulate(rows, headers='firstrow', tablefmt='fancy_grid')\n",
        "    print(table)\n",
        "\n",
        "\n",
        "def cosine_sim(u, v, id):\n",
        "    ud = {i: r for i, r in u}\n",
        "    vd = {i: r for i, r in v}\n",
        "\n",
        "    u_dot_v = 0\n",
        "    for i in ud:\n",
        "        u_dot_v += vd.get(i, 0) * ud[i]\n",
        "\n",
        "    u_ = math.sqrt(sum(map(lambda x: x * x, ud.values())))\n",
        "    v_ = math.sqrt(sum(map(lambda x: x * x, vd.values())))\n",
        "\n",
        "    s = 0\n",
        "    try:\n",
        "        s = u_dot_v / (u_ * v_)\n",
        "    except:\n",
        "        pass\n",
        "\n",
        "    rate = vd[id]\n",
        "\n",
        "    return s, rate\n",
        "\n",
        "\n",
        "def icf(uid, users, items, itdescs, sc):\n",
        "    \"\"\"Item-item collaborative filtering\"\"\"\n",
        "\n",
        "    # Get the rated and not rated items for the user.\n",
        "    user = users.lookup(uid)[0]\n",
        "    rated = sc.parallelize(user)\n",
        "    not_rated = items.subtractByKey(rated)\n",
        "    rated = items.subtractByKey(not_rated).collect()\n",
        "    not_rated = not_rated.collect()\n",
        "\n",
        "    # Calculate the rate for each not rated item.\n",
        "    i_r = []\n",
        "    for i, u in not_rated:\n",
        "        \n",
        "        # Calculate the similarity between each rated and not rated item.\n",
        "        s_r = []\n",
        "        for j, v in rated:\n",
        "            s_r.append(cosine_sim(u, v, uid))\n",
        "\n",
        "        # Predict the rate by taking weighted average.\n",
        "        try:\n",
        "            r = sum(map(lambda x: x[0] * x[1], s_r)) / sum(map(lambda x: x[0], s_r))\n",
        "        except:\n",
        "            r = 0\n",
        "        i_r.append((i, r))\n",
        "\n",
        "    # Sort list of tuples (item, rate).\n",
        "    i_r.sort(key=lambda x: x[0], reverse=False)\n",
        "    i_r.sort(key=lambda x: x[1], reverse=True)\n",
        "\n",
        "    # Attach the item title to the list of N top tuples.\n",
        "    i_r = i_r[:N]\n",
        "    i_r_t = []\n",
        "    for i, r in i_r:\n",
        "        title = itdescs.lookup(i)[0]\n",
        "        i_r_t.append((i, r, title))\n",
        "\n",
        "    # Return the list of tuples (item, rate, title).\n",
        "    return i_r_t\n",
        "\n",
        "\n",
        "def ucf(uid, users, items, itdescs, sc):\n",
        "    \"\"\"User-user collaborative filtering\"\"\"\n",
        "\n",
        "    # Get the not rated items for the user.\n",
        "    user = users.lookup(uid)[0]\n",
        "    rated = sc.parallelize(user)\n",
        "    not_rated = items.subtractByKey(rated).collect()\n",
        "\n",
        "    # Collect all the users in the main memory for faster operation.\n",
        "    users = users.collectAsMap()\n",
        "\n",
        "    # Calculate the rate for each not rated item.\n",
        "    i_r = []\n",
        "    for i, usrs in not_rated:\n",
        "        \n",
        "        # Calculate the similarity between users of each not rated item and the user.\n",
        "        s_r = []\n",
        "        for usr in usrs:\n",
        "            usr = users[usr[0]]\n",
        "            s_r.append(cosine_sim(user, usr, i))\n",
        "        \n",
        "        # Predict the rate by taking weighted average.\n",
        "        try:\n",
        "            r = sum(map(lambda x: x[0] * x[1], s_r)) / sum(map(lambda x: x[0], s_r))\n",
        "        except:\n",
        "            r = 0\n",
        "        i_r.append((i, r))\n",
        "\n",
        "    # Sort list of tuples (item, rate).\n",
        "    i_r.sort(key=lambda x: x[0], reverse=False)\n",
        "    i_r.sort(key=lambda x: x[1], reverse=True)\n",
        "\n",
        "    # Attach the item title to the list of N top tuples.\n",
        "    i_r = i_r[:N]\n",
        "    i_r_t = []\n",
        "    for i, r in i_r:\n",
        "        title = itdescs.lookup(i)[0]\n",
        "        i_r_t.append((i, r, title))\n",
        "\n",
        "    # Return the list of tuples (item, rate, title).\n",
        "    return i_r_t"
      ],
      "metadata": {
        "id": "NyU79v5UsjcL"
      },
      "execution_count": 23,
      "outputs": []
    },
    {
      "cell_type": "code",
      "source": [
        "# Load the data.\n",
        "\n",
        "sc = SparkContext.getOrCreate()\n",
        "\n",
        "ratings = sc.textFile(RATINGS_FILE)\n",
        "itdescs = sc.textFile(ITEMS_FILE)\n",
        "\n",
        "items = ratings.map(map_items)\n",
        "items = items.reduceByKey(reduce_items)\n",
        "items = items.sortByKey()\n",
        "\n",
        "users = ratings.map(map_users)\n",
        "users = users.reduceByKey(reduce_items)\n",
        "users = users.sortByKey()\n",
        "\n",
        "itdescs = itdescs.map(map_itdescs)\n",
        "itdescs = itdescs.sortByKey()"
      ],
      "metadata": {
        "id": "fotiwNmUYtb1"
      },
      "execution_count": 24,
      "outputs": []
    },
    {
      "cell_type": "code",
      "source": [
        "print('Item-item collaborative filtering for user:', U1)\n",
        "print_table(icf(U1, users, items, itdescs, sc))"
      ],
      "metadata": {
        "colab": {
          "base_uri": "https://localhost:8080/"
        },
        "id": "Ipo4Aa5qs58y",
        "outputId": "674d3baf-48db-43ce-d9f6-c5042e5a8701"
      },
      "execution_count": 25,
      "outputs": [
        {
          "output_type": "stream",
          "name": "stdout",
          "text": [
            "Item-item collaborative filtering for user: 5461\n",
            "╒═══════════╤════════╤═══════════════════════════╕\n",
            "│   Game ID │   Rate │ Title                     │\n",
            "╞═══════════╪════════╪═══════════════════════════╡\n",
            "│      5442 │      5 │ Worms 3D                  │\n",
            "├───────────┼────────┼───────────────────────────┤\n",
            "│      6247 │      5 │ Sword of Mana             │\n",
            "├───────────┼────────┼───────────────────────────┤\n",
            "│      9127 │      5 │ Zombie Vikings            │\n",
            "├───────────┼────────┼───────────────────────────┤\n",
            "│      9243 │      5 │ Bounty Hounds             │\n",
            "├───────────┼────────┼───────────────────────────┤\n",
            "│      9712 │      5 │ Spider-Man: Friend or Foe │\n",
            "╘═══════════╧════════╧═══════════════════════════╛\n"
          ]
        }
      ]
    },
    {
      "cell_type": "code",
      "source": [
        "print('User-user collaborative filtering for user:', U1)\n",
        "print_table(ucf(U1, users, items, itdescs, sc))"
      ],
      "metadata": {
        "colab": {
          "base_uri": "https://localhost:8080/"
        },
        "id": "cQTZN_yS5KJS",
        "outputId": "3a72659c-b756-4891-858b-8a3868f2a12a"
      },
      "execution_count": 26,
      "outputs": [
        {
          "output_type": "stream",
          "name": "stdout",
          "text": [
            "User-user collaborative filtering for user: 5461\n",
            "╒═══════════╤════════╤═══════════════════════════════════╕\n",
            "│   Game ID │   Rate │ Title                             │\n",
            "╞═══════════╪════════╪═══════════════════════════════════╡\n",
            "│      2100 │      5 │ Bloodstained: Curse of the Moon 2 │\n",
            "├───────────┼────────┼───────────────────────────────────┤\n",
            "│      2743 │      5 │ Trials Fusion                     │\n",
            "├───────────┼────────┼───────────────────────────────────┤\n",
            "│      4170 │      5 │ Kirby 64: The Crystal Shards      │\n",
            "├───────────┼────────┼───────────────────────────────────┤\n",
            "│      4761 │      5 │ Wraith: The Oblivion - Afterlife  │\n",
            "├───────────┼────────┼───────────────────────────────────┤\n",
            "│      6062 │      5 │ Supercross                        │\n",
            "╘═══════════╧════════╧═══════════════════════════════════╛\n"
          ]
        }
      ]
    },
    {
      "cell_type": "code",
      "source": [
        "print('Item-item collaborative filtering for user:', U2)\n",
        "print_table(icf(U2, users, items, itdescs, sc))"
      ],
      "metadata": {
        "colab": {
          "base_uri": "https://localhost:8080/"
        },
        "id": "Gch5KBuJz2Yv",
        "outputId": "5c899248-82c2-463a-b0f6-1fb91dd3ff17"
      },
      "execution_count": 27,
      "outputs": [
        {
          "output_type": "stream",
          "name": "stdout",
          "text": [
            "Item-item collaborative filtering for user: 10140\n",
            "╒═══════════╤═════════╤══════════════════╕\n",
            "│   Game ID │    Rate │ Title            │\n",
            "╞═══════════╪═════════╪══════════════════╡\n",
            "│      7803 │ 5       │ Frantics         │\n",
            "├───────────┼─────────┼──────────────────┤\n",
            "│      8917 │ 5       │ Super Motherload │\n",
            "├───────────┼─────────┼──────────────────┤\n",
            "│      9993 │ 5       │ Sega Smash Pack  │\n",
            "├───────────┼─────────┼──────────────────┤\n",
            "│      1935 │ 4.5549  │ MLB 07: The Show │\n",
            "├───────────┼─────────┼──────────────────┤\n",
            "│      9243 │ 4.51725 │ Bounty Hounds    │\n",
            "╘═══════════╧═════════╧══════════════════╛\n"
          ]
        }
      ]
    },
    {
      "cell_type": "code",
      "source": [
        "print('User-user collaborative filtering for user:', U2)\n",
        "print_table(ucf(U2, users, items, itdescs, sc))"
      ],
      "metadata": {
        "colab": {
          "base_uri": "https://localhost:8080/"
        },
        "id": "hrCIzWo5z_l6",
        "outputId": "81de2b36-5fd9-4b0f-92ee-d1acc1d6d81f"
      },
      "execution_count": 28,
      "outputs": [
        {
          "output_type": "stream",
          "name": "stdout",
          "text": [
            "User-user collaborative filtering for user: 10140\n",
            "╒═══════════╤════════╤══════════════════════════════════╕\n",
            "│   Game ID │   Rate │ Title                            │\n",
            "╞═══════════╪════════╪══════════════════════════════════╡\n",
            "│      1828 │      5 │ Helldivers                       │\n",
            "├───────────┼────────┼──────────────────────────────────┤\n",
            "│      4191 │      5 │ The Godfather: Blackhand Edition │\n",
            "├───────────┼────────┼──────────────────────────────────┤\n",
            "│      6789 │      5 │ Metal Slug 4 & 5                 │\n",
            "├───────────┼────────┼──────────────────────────────────┤\n",
            "│      6971 │      5 │ The Sims Online                  │\n",
            "├───────────┼────────┼──────────────────────────────────┤\n",
            "│      7134 │      5 │ Duke Nukem 3D: Megaton Edition   │\n",
            "╘═══════════╧════════╧══════════════════════════════════╛\n"
          ]
        }
      ]
    }
  ],
  "metadata": {
    "colab": {
      "collapsed_sections": [],
      "name": "q2.ipynb",
      "provenance": []
    },
    "kernelspec": {
      "display_name": "Python 3",
      "name": "python3"
    },
    "language_info": {
      "name": "python"
    }
  },
  "nbformat": 4,
  "nbformat_minor": 0
}
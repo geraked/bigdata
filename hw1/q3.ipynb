{
  "metadata": {
    "kernelspec": {
      "name": "python3",
      "display_name": "Python 3 (ipykernel)",
      "language": "python"
    },
    "language_info": {
      "name": "python",
      "version": "3.10.2",
      "mimetype": "text/x-python",
      "codemirror_mode": {
        "name": "ipython",
        "version": 3
      },
      "pygments_lexer": "ipython3",
      "nbconvert_exporter": "python",
      "file_extension": ".py"
    },
    "colab": {
      "name": "q3.ipynb",
      "provenance": [],
      "collapsed_sections": []
    }
  },
  "nbformat_minor": 0,
  "nbformat": 4,
  "cells": [
    {
      "cell_type": "code",
      "source": [
        "!pip install --upgrade --no-cache-dir gdown >/dev/null\n",
        "!gdown 1-OCBGBtKoY_PadKHcXDyWxHQ2BS8Nulo"
      ],
      "metadata": {
        "colab": {
          "base_uri": "https://localhost:8080/"
        },
        "id": "zMq17YwUyeD4",
        "outputId": "b8431ef4-8b83-47ea-9365-13fc0bc4adb4",
        "azdata_cell_guid": "797893b6-5951-4bc3-bbf2-17372641a1bf"
      },
      "outputs": [
        {
          "output_type": "stream",
          "name": "stdout",
          "text": [
            "Downloading...\n",
            "From: https://drive.google.com/uc?id=1-OCBGBtKoY_PadKHcXDyWxHQ2BS8Nulo\n",
            "To: /content/bigdata_hw1_files.zip\n",
            "\r  0% 0.00/38.9M [00:00<?, ?B/s]\r 44% 17.3M/38.9M [00:00<00:00, 171MB/s]\r100% 38.9M/38.9M [00:00<00:00, 239MB/s]\n"
          ]
        }
      ],
      "execution_count": 1
    },
    {
      "cell_type": "code",
      "source": [
        "!unzip bigdata_hw1_files.zip"
      ],
      "metadata": {
        "colab": {
          "base_uri": "https://localhost:8080/"
        },
        "id": "aHv14fC4yvL7",
        "outputId": "98b94a3c-fb00-4333-ee50-ddfdcb73e23a",
        "azdata_cell_guid": "9c86420f-30d8-48c5-88c8-63d4a0542afc"
      },
      "outputs": [
        {
          "output_type": "stream",
          "name": "stdout",
          "text": [
            "Archive:  bigdata_hw1_files.zip\n",
            "   creating: hw1-files/\n",
            "   creating: hw1-files/q3/\n",
            "  inflating: hw1-files/q3/patches.csv  \n",
            "  inflating: hw1-files/q3/lsh.py     \n",
            "   creating: hw1-files/q1/\n",
            "  inflating: hw1-files/q1/dataset1.txt  \n",
            "   creating: hw1-files/q1/.ipynb_checkpoints/\n",
            "   creating: hw1-files/q2/\n",
            "  inflating: hw1-files/q2/games_library.txt  \n",
            "   creating: hw1-files/.ipynb_checkpoints/\n"
          ]
        }
      ],
      "execution_count": 2
    },
    {
      "cell_type": "code",
      "source": [
        "# Authors: Jessica Su, Wanzi Zhou, Pratyaksh Sharma, Dylan Liu, Ansh Shukla\n",
        "#Modified: Alex Porter\n",
        "import numpy as np\n",
        "import random\n",
        "import time\n",
        "import pdb\n",
        "import unittest\n",
        "from PIL import Image\n",
        "import matplotlib.pyplot as plt\n",
        "\n",
        "# Finds the L1 distance between two vectors\n",
        "# u and v are 1-dimensional np.array objects\n",
        "# TODO: Implement this\n",
        "def l1(u, v):\n",
        "    # Manhattan distance\n",
        "    d = 0\n",
        "    for i in range(len(v)):\n",
        "        d += abs(u[i] - v[i])\n",
        "    return d\n",
        "\n",
        "# Loads the data into a np array, where each row corresponds to\n",
        "# an image patch -- this step is sort of slow.\n",
        "# Each row in the data is an image, and there are 400 columns.\n",
        "def load_data(filename):\n",
        "    return np.genfromtxt(filename, delimiter=',')\n",
        "\n",
        "# Creates a hash function from a list of dimensions and thresholds.\n",
        "def create_function(dimensions, thresholds):\n",
        "    def f(v):\n",
        "        boolarray = [v[dimensions[i]] >= thresholds[i] for i in range(len(dimensions))]\n",
        "        return \"\".join(map(str, map(int, boolarray)))\n",
        "    return f\n",
        "\n",
        "# Creates the LSH functions (functions that compute L K-bit hash keys).\n",
        "# Each function selects k dimensions (i.e. column indices of the image matrix)\n",
        "# at random, and then chooses a random threshold for each dimension, between 0 and\n",
        "# 255.  For any image, if its value on a given dimension is greater than or equal to\n",
        "# the randomly chosen threshold, we set that bit to 1.  Each hash function returns\n",
        "# a length-k bit string of the form \"0101010001101001...\", and the L hash functions\n",
        "# will produce L such bit strings for each image.\n",
        "def create_functions(k, L, num_dimensions=400, min_threshold=0, max_threshold=255):\n",
        "    functions = []\n",
        "    for i in range(L):\n",
        "        dimensions = np.random.randint(low = 0,\n",
        "                                   high = num_dimensions,\n",
        "                                   size = k)\n",
        "        thresholds = np.random.randint(low = min_threshold,\n",
        "                                   high = max_threshold + 1,\n",
        "                                   size = k)\n",
        "\n",
        "        functions.append(create_function(dimensions, thresholds))\n",
        "    return functions\n",
        "\n",
        "# Hashes an individual vector (i.e. image).  This produces an array with L\n",
        "# entries, where each entry is a string of k bits.\n",
        "def hash_vector(functions, v):\n",
        "    return np.array([f(v) for f in functions])\n",
        "\n",
        "# Hashes the data in A, where each row is a datapoint, using the L\n",
        "# functions in \"functions.\"\n",
        "def hash_data(functions, A):\n",
        "    return np.array(list(map(lambda v: hash_vector(functions, v), A)))\n",
        "\n",
        "# Retrieve all of the points that hash to one of the same buckets\n",
        "# as the query point.  Do not do any random sampling (unlike what the first\n",
        "# part of this problem prescribes).\n",
        "# Don't retrieve a point if it is the same point as the query point.\n",
        "def get_candidates(hashed_A, hashed_point, query_index):\n",
        "    return filter(lambda i: i != query_index and \\\n",
        "        any(hashed_point == hashed_A[i]), range(len(hashed_A)))\n",
        "\n",
        "# Sets up the LSH.  You should try to call this function as few times as\n",
        "# possible, since it is expensive.\n",
        "# A: The dataset in which each row is an image patch.\n",
        "# Return the LSH functions and hashed data structure.\n",
        "def lsh_setup(A, k = 24, L = 10):\n",
        "    functions = create_functions(k = k, L = L)\n",
        "    hashed_A = hash_data(functions, A)\n",
        "    return (functions, hashed_A)\n",
        "\n",
        "# Run the entire LSH algorithm\n",
        "def lsh_search(A, hashed_A, functions, query_index, num_neighbors = 10):\n",
        "    hashed_point = hash_vector(functions, A[query_index, :])\n",
        "    candidate_row_nums = get_candidates(hashed_A, hashed_point, query_index)\n",
        "\n",
        "    distances = map(lambda r: (r, l1(A[r], A[query_index])), candidate_row_nums)\n",
        "    best_neighbors = sorted(distances, key=lambda t: t[1])[:num_neighbors]\n",
        "\n",
        "    return [t[0] for t in best_neighbors], [t[1] for t in best_neighbors]\n",
        "\n",
        "# Plots images at the specified rows and saves them each to files.\n",
        "def plot(A, row_nums, base_filename):\n",
        "    for row_num in row_nums:\n",
        "        patch = np.reshape(A[row_num, :], [20, 20])\n",
        "        im = Image.fromarray(patch)\n",
        "        if im.mode != 'RGB':\n",
        "            im = im.convert('RGB')\n",
        "        im.save(base_filename + \"-\" + str(row_num) + \".png\")\n",
        "\n",
        "# Finds the nearest neighbors to a given vector, using linear search.\n",
        "def linear_search(A, query_index, num_neighbors):\n",
        "    # Extract Query Vector\n",
        "    query_vect = A[query_index]\n",
        "\n",
        "    # Compute Distance to Each\n",
        "    distances = []\n",
        "    for index,row in enumerate(A):\n",
        "\n",
        "        # don't include the query\n",
        "        if index == query_index:\n",
        "            continue\n",
        "\n",
        "        # Extract the relevant data from the row\n",
        "        distance = l1(query_vect, row)\n",
        "\n",
        "        # This elimination step only works once we found n candidates\n",
        "        if len(distances) >= num_neighbors:\n",
        "            # Don't bother adding if it's farther than all \"current best\" neighbors\n",
        "            if distance > distances[-1][1]:\n",
        "                continue\n",
        "\n",
        "        # Insert in sorted order to optimize\n",
        "        idx = 0\n",
        "        for i in range(len(distances)):\n",
        "            if distances[i][1] > distance:\n",
        "                idx = i\n",
        "                break\n",
        "        distances = distances[:idx] + [[index, distance]] + distances[idx: num_neighbors - 1]\n",
        "    best_neighbors = sorted(distances, key=lambda t: t[1])[:num_neighbors]\n",
        "    return [t[0] for t in best_neighbors], [t[1] for t in best_neighbors]\n",
        "\n",
        "# TODO: Write a function that computes the error measure\n",
        "def lsh_error(lsh_dists, linear_dists):\n",
        "    return sum(lsh_dists) / sum(linear_dists)\n",
        "\n",
        "# TODO: Solve Problem 3\n",
        "def problem3():\n",
        "    raise NotImplementedError\n",
        "\n",
        "#### TESTS #####\n",
        "\n",
        "class TestLSH(unittest.TestCase):\n",
        "    def test_l1(self):\n",
        "        u = np.array([1, 2, 3, 4])\n",
        "        v = np.array([2, 3, 2, 3])\n",
        "        self.assertEqual(l1(u, v), 4)\n",
        "\n",
        "    def test_hash_data(self):\n",
        "        f1 = lambda v: sum(v)\n",
        "        f2 = lambda v: sum([x * x for x in v])\n",
        "        A = np.array([[1, 2, 3], [4, 5, 6]])\n",
        "        self.assertEqual(f1(A[0,:]), 6)\n",
        "        self.assertEqual(f2(A[0,:]), 14)\n",
        "\n",
        "        functions = [f1, f2]\n",
        "        self.assertTrue(np.array_equal(hash_vector(functions, A[0, :]), np.array([6, 14])))\n",
        "        self.assertTrue(np.array_equal(hash_data(functions, A), np.array([[6, 14], [15, 77]])))\n",
        "\n",
        "    ### TODO: Write your tests here (they won't be graded,\n",
        "    ### but you may find them helpful)\n",
        "\n",
        "\n",
        "# if __name__ == '__main__':\n",
        "# #    unittest.main() ### TODO: Uncomment this to run tests\n",
        "#     # problem3()"
      ],
      "metadata": {
        "id": "pom_-tAby62o",
        "azdata_cell_guid": "273bd607-9890-4101-80d0-57af0e769c83"
      },
      "outputs": [],
      "execution_count": 3
    },
    {
      "cell_type": "code",
      "source": [
        "A = load_data('hw1-files/q3/patches.csv')"
      ],
      "metadata": {
        "id": "gl1DrSt9KiYu",
        "azdata_cell_guid": "7232e55d-0c46-4f2f-a608-1a574ad4f305"
      },
      "outputs": [],
      "execution_count": 4
    },
    {
      "cell_type": "code",
      "source": [
        "L = 10\n",
        "K = 24\n",
        "functions, hashed_A = lsh_setup(A, k=K, L=L)"
      ],
      "metadata": {
        "azdata_cell_guid": "34ed3445-7adf-43b3-a9ec-0b155ef57f4a",
        "id": "g-Zk4bCS95uB"
      },
      "outputs": [],
      "execution_count": 5
    },
    {
      "cell_type": "code",
      "source": [
        "QUERY_INDICES = (100, 199, 300, 399, 500, 599, 700, 799, 900, 999)\n",
        "NEIGHBORS = 3"
      ],
      "metadata": {
        "azdata_cell_guid": "9e5cc44d-3cfd-4473-bb99-38dcf9e2bade",
        "id": "jd__eW5Y95uC"
      },
      "outputs": [],
      "execution_count": 6
    },
    {
      "cell_type": "code",
      "source": [
        "# Section 2\n",
        "\n",
        "lsh_dists = []\n",
        "linear_dists = []\n",
        "\n",
        "print('*** LSH:')\n",
        "times = []\n",
        "for i in QUERY_INDICES:\n",
        "    ts = time.time()\n",
        "    neighboers, distances = lsh_search(A, hashed_A, functions, i, NEIGHBORS)\n",
        "    times.append(time.time() - ts)\n",
        "    lsh_dists.append(distances)\n",
        "    print(i, ':', neighboers)\n",
        "print('Mean LSH Elapsed Time:', np.mean(times))\n",
        "\n",
        "print('\\n')\n",
        "\n",
        "print('*** Linear Search:')\n",
        "times = []\n",
        "for i in QUERY_INDICES:\n",
        "    ts = time.time()\n",
        "    neighboers, distances = linear_search(A, i, NEIGHBORS)\n",
        "    times.append(time.time() - ts)\n",
        "    linear_dists.append(distances)\n",
        "    print(i, ':', neighboers)\n",
        "print('Mean Linear Search Elapsed Time:', np.mean(times))"
      ],
      "metadata": {
        "id": "0g02FRnrK7bt",
        "azdata_cell_guid": "871b8790-08fc-4cd6-9128-99500b11b4aa",
        "tags": [],
        "colab": {
          "base_uri": "https://localhost:8080/"
        },
        "outputId": "6e24ec0d-50dc-493b-dfed-86a24756a556"
      },
      "outputs": [
        {
          "output_type": "stream",
          "name": "stdout",
          "text": [
            "*** LSH:\n",
            "100 : [7551, 8196, 28351]\n",
            "199 : [42509, 38136, 11148]\n",
            "300 : [15818, 22057, 9006]\n",
            "399 : [37216, 24449, 45671]\n",
            "500 : [1178, 557, 35904]\n",
            "599 : [23640, 59469, 54275]\n",
            "700 : [44006, 36422, 90]\n",
            "799 : [46059, 57201, 12962]\n",
            "900 : [29023, 15184, 20405]\n",
            "999 : [51830, 26772, 5325]\n",
            "Mean LSH Elapsed Time: 0.5233157396316528\n",
            "\n",
            "\n",
            "*** Linear Search:\n",
            "100 : [7551, 8196, 28351]\n",
            "199 : [39397, 11341, 23895]\n",
            "300 : [15818, 22057, 9006]\n",
            "399 : [20536, 18874, 20572]\n",
            "500 : [1178, 557, 35904]\n",
            "599 : [6201, 47784, 9540]\n",
            "700 : [41352, 44006, 36422]\n",
            "799 : [33741, 13889, 24319]\n",
            "900 : [29023, 15184, 20405]\n",
            "999 : [46093, 28450, 59238]\n",
            "Mean Linear Search Elapsed Time: 9.121149230003358\n"
          ]
        }
      ],
      "execution_count": 7
    },
    {
      "cell_type": "code",
      "source": [
        "# Section 3\n",
        "print('Error:', np.mean([lsh_error(lsh_dists[i], linear_dists[i]) for i in range(len(QUERY_INDICES))]))"
      ],
      "metadata": {
        "azdata_cell_guid": "eb8b53e1-12d1-490c-af60-a0a2ee969a14",
        "tags": [],
        "colab": {
          "base_uri": "https://localhost:8080/"
        },
        "id": "kJvz50re95uE",
        "outputId": "8d5015f0-4245-4fcb-96d8-0e67a4b983ce"
      },
      "outputs": [
        {
          "output_type": "stream",
          "name": "stdout",
          "text": [
            "Error: 1.0674393454071922\n"
          ]
        }
      ],
      "execution_count": 8
    },
    {
      "cell_type": "code",
      "source": [
        "# Section 4.1\n",
        "\n",
        "K = 24\n",
        "L = list(range(10, 22, 2))\n",
        "errors = []\n",
        "\n",
        "for l in L:\n",
        "    functions, hashed_A = lsh_setup(A, k=K, L=l)\n",
        "    lsh_errors = []\n",
        "    for i in QUERY_INDICES:\n",
        "        lsh_dists = lsh_search(A, hashed_A, functions, i, NEIGHBORS)[1]\n",
        "        linear_dists = linear_search(A, i, NEIGHBORS)[1]\n",
        "        lsh_errors.append(lsh_error(lsh_dists, linear_dists))\n",
        "    errors.append(np.mean(lsh_errors))"
      ],
      "metadata": {
        "azdata_cell_guid": "f4453eef-86c0-42b8-b924-d2cb880e3153",
        "id": "Cs_z_Jam95uF"
      },
      "outputs": [],
      "execution_count": 9
    },
    {
      "cell_type": "code",
      "source": [
        "print('L:', L)\n",
        "print('Error:', errors)\n",
        "\n",
        "plt.plot(L, errors)\n",
        "plt.title(\"K=24\")\n",
        "plt.xlabel(\"L\")\n",
        "plt.ylabel(\"Error\")\n",
        "plt.show()"
      ],
      "metadata": {
        "azdata_cell_guid": "7841a1df-56d9-49e7-b59a-a7299ac87a8c",
        "colab": {
          "base_uri": "https://localhost:8080/",
          "height": 331
        },
        "id": "JiC78n5L95uF",
        "outputId": "0de4e648-20f5-46fc-fb14-59952fdff5ac"
      },
      "outputs": [
        {
          "output_type": "stream",
          "name": "stdout",
          "text": [
            "L: [10, 12, 14, 16, 18, 20]\n",
            "Error: [1.0653477395760862, 1.0069369728033153, 1.0423111893376034, 1.0318895142049824, 1.025285894388745, 1.0449073258365529]\n"
          ]
        },
        {
          "output_type": "display_data",
          "data": {
            "text/plain": [
              "<Figure size 432x288 with 1 Axes>"
            ],
            "image/png": "[encoded data removed]"
          },
          "metadata": {
            "needs_background": "light"
          }
        }
      ],
      "execution_count": 10
    },
    {
      "cell_type": "code",
      "source": [
        "# Section 4.2\n",
        "\n",
        "K = list(range(16, 26, 2))\n",
        "L = 10\n",
        "errors = []\n",
        "\n",
        "for k in K:\n",
        "    functions, hashed_A = lsh_setup(A, k=k, L=L)\n",
        "    lsh_errors = []\n",
        "    for i in QUERY_INDICES:\n",
        "        lsh_dists = lsh_search(A, hashed_A, functions, i, NEIGHBORS)[1]\n",
        "        linear_dists = linear_search(A, i, NEIGHBORS)[1]\n",
        "        lsh_errors.append(lsh_error(lsh_dists, linear_dists))\n",
        "    errors.append(np.mean(lsh_errors))"
      ],
      "metadata": {
        "azdata_cell_guid": "0c9f281d-3e0c-4ed1-84ee-b8900d0c8c7e",
        "id": "71xmJYUc95uG"
      },
      "outputs": [],
      "execution_count": 11
    },
    {
      "cell_type": "code",
      "source": [
        "print('K:', K)\n",
        "print('Error:', errors)\n",
        "\n",
        "plt.plot(K, errors)\n",
        "plt.title(\"L=10\")\n",
        "plt.xlabel(\"K\")\n",
        "plt.ylabel(\"Error\")\n",
        "plt.show()"
      ],
      "metadata": {
        "azdata_cell_guid": "bfdbb93f-3285-4def-a004-293bb79b29b8",
        "colab": {
          "base_uri": "https://localhost:8080/",
          "height": 331
        },
        "id": "tX6AWNXw95uG",
        "outputId": "ac211cfe-e7cb-44e2-96bd-54b7ee7f2fb2"
      },
      "outputs": [
        {
          "output_type": "stream",
          "name": "stdout",
          "text": [
            "K: [16, 18, 20, 22, 24]\n",
            "Error: [1.0136615383643273, 1.0160704982339392, 1.0157113537512217, 1.0756084938641712, 1.0730879555254238]\n"
          ]
        },
        {
          "output_type": "display_data",
          "data": {
            "text/plain": [
              "<Figure size 432x288 with 1 Axes>"
            ],
            "image/png": "[encoded data removed]"
          },
          "metadata": {
            "needs_background": "light"
          }
        }
      ],
      "execution_count": 12
    },
    {
      "cell_type": "code",
      "source": [
        "L = 10\n",
        "K = 24\n",
        "functions, hashed_A = lsh_setup(A, k=K, L=L)"
      ],
      "metadata": {
        "azdata_cell_guid": "c41481ed-f51f-40ce-9182-e79847ec8ea6",
        "id": "AJYcp4U695uH"
      },
      "outputs": [],
      "execution_count": 22
    },
    {
      "cell_type": "code",
      "source": [
        "# Section 5\n",
        "\n",
        "QUERY_INDEX = 100\n",
        "NEIGHBORS = 10\n",
        "\n",
        "lsh_neighbors = lsh_search(A, hashed_A, functions, QUERY_INDEX, NEIGHBORS)[0]\n",
        "linear_neighbors = linear_search(A, QUERY_INDEX, NEIGHBORS)[0]\n",
        "\n",
        "plot(A, [QUERY_INDEX], 'original')\n",
        "plot(A, lsh_neighbors, 'lsh')\n",
        "plot(A, linear_neighbors, 'linear')"
      ],
      "metadata": {
        "azdata_cell_guid": "ef459acb-2882-4c21-ad3d-dd87e70f56f2",
        "tags": [],
        "id": "HaBS5WZC95uH"
      },
      "outputs": [],
      "execution_count": 23
    },
    {
      "cell_type": "code",
      "source": [
        "print(linear_neighbors)\n",
        "print(lsh_neighbors)"
      ],
      "metadata": {
        "colab": {
          "base_uri": "https://localhost:8080/"
        },
        "id": "X3uaz6RPJdNP",
        "outputId": "abea7325-3978-4949-b418-81008b756098"
      },
      "execution_count": 24,
      "outputs": [
        {
          "output_type": "stream",
          "name": "stdout",
          "text": [
            "[7551, 8196, 28351, 28251, 25289, 21780, 22509, 12444, 25549, 7464]\n",
            "[7551, 8196, 28351, 28251, 25289, 21780, 22509, 12444, 25549, 7464]\n"
          ]
        }
      ]
    }
  ]
}
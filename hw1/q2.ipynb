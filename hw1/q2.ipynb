{
  "nbformat": 4,
  "nbformat_minor": 0,
  "metadata": {
    "colab": {
      "name": "q2.ipynb",
      "provenance": [],
      "collapsed_sections": []
    },
    "kernelspec": {
      "name": "python3",
      "display_name": "Python 3"
    },
    "language_info": {
      "name": "python"
    }
  },
  "cells": [
    {
      "cell_type": "code",
      "execution_count": 2,
      "metadata": {
        "id": "KuqONk0TUedI",
        "colab": {
          "base_uri": "https://localhost:8080/"
        },
        "outputId": "ecc567d0-eaf7-4310-a7c6-27d0a8cb5ac9"
      },
      "outputs": [
        {
          "output_type": "stream",
          "name": "stdout",
          "text": [
            "Downloading...\n",
            "From: https://drive.google.com/uc?id=1-OCBGBtKoY_PadKHcXDyWxHQ2BS8Nulo\n",
            "To: /content/bigdata_hw1_files.zip\n",
            "100% 38.9M/38.9M [00:00<00:00, 45.2MB/s]\n"
          ]
        }
      ],
      "source": [
        "!pip install --upgrade --no-cache-dir gdown >/dev/null\n",
        "!gdown 1-OCBGBtKoY_PadKHcXDyWxHQ2BS8Nulo"
      ]
    },
    {
      "cell_type": "code",
      "source": [
        "!unzip bigdata_hw1_files.zip"
      ],
      "metadata": {
        "colab": {
          "base_uri": "https://localhost:8080/"
        },
        "id": "160yzN1lU89H",
        "outputId": "235a696d-7e28-4efe-e633-ef1dc0f84665"
      },
      "execution_count": 3,
      "outputs": [
        {
          "output_type": "stream",
          "name": "stdout",
          "text": [
            "Archive:  bigdata_hw1_files.zip\n",
            "   creating: hw1-files/\n",
            "   creating: hw1-files/q3/\n",
            "  inflating: hw1-files/q3/patches.csv  \n",
            "  inflating: hw1-files/q3/lsh.py     \n",
            "   creating: hw1-files/q1/\n",
            "  inflating: hw1-files/q1/dataset1.txt  \n",
            "   creating: hw1-files/q1/.ipynb_checkpoints/\n",
            "   creating: hw1-files/q2/\n",
            "  inflating: hw1-files/q2/games_library.txt  \n",
            "   creating: hw1-files/.ipynb_checkpoints/\n"
          ]
        }
      ]
    },
    {
      "cell_type": "code",
      "source": [
        "from itertools import combinations\n",
        "from tabulate import tabulate\n",
        "\n",
        "S = 100\n",
        "R = 5\n",
        "INPUT_FILE = 'hw1-files/q2/games_library.txt'"
      ],
      "metadata": {
        "id": "n0rVLa8TVPt9"
      },
      "execution_count": 4,
      "outputs": []
    },
    {
      "cell_type": "code",
      "source": [
        "# Read input file and fill baskets\n",
        "baskets = []\n",
        "with open(INPUT_FILE) as f:\n",
        "    baskets = [frozenset(l.split()) for l in f.readlines()]"
      ],
      "metadata": {
        "id": "UkGNUE6qVZLD"
      },
      "execution_count": 5,
      "outputs": []
    },
    {
      "cell_type": "code",
      "source": [
        "def freq_itemsets(k, c1=None, cp=None):\n",
        "    \"\"\"\n",
        "    Generate frequent itemsets of level k using\n",
        "    frequent items and previous level frequent itemsets.\n",
        "\n",
        "    Args:\n",
        "        k (int): Level number.\n",
        "        c1 (dict, optional): Frequent Items. (from level 1)\n",
        "        cp (dict, optional): Frequent Itemsets of level k-1 (previous level).\n",
        "\n",
        "    Returns:\n",
        "        dict: Frequent Itemsets of level k. (Itemset as key and support as value) \n",
        "    \"\"\"\n",
        "\n",
        "    c = {}\n",
        "\n",
        "    # Pass 1\n",
        "    # Read baskets and count in main memory the occurrences of each individual item.\n",
        "    # Remove non-frequent items.\n",
        "    if k == 1:\n",
        "        for basket in baskets:\n",
        "            for item in basket:\n",
        "                c[item] = c.get(item, 0) + 1\n",
        "        c = {item: c[item] for item in c if c[item] >= S}\n",
        "\n",
        "    # Pass k\n",
        "    # Generate sets with k items through combinations of frequent items.\n",
        "    # Check whether all subsets of k-1 size are frequent.\n",
        "    # Read baskets and count the occurrences of each itemset of k size.\n",
        "    # Remove non-frequent itemsets.\n",
        "    else:\n",
        "        for itemset in combinations(c1, k):\n",
        "            if k == 2 or all([frozenset(pset) in cp for pset in combinations(itemset, k - 1)]):\n",
        "                itemset = frozenset(itemset)\n",
        "                for basket in baskets:\n",
        "                    if itemset.issubset(basket):\n",
        "                        c[itemset] = c.get(itemset, 0) + 1\n",
        "        c = {itemset: c[itemset] for itemset in c if c[itemset] >= S}\n",
        "\n",
        "    return c"
      ],
      "metadata": {
        "id": "Rs3Ts-zEVfSL"
      },
      "execution_count": 6,
      "outputs": []
    },
    {
      "cell_type": "code",
      "source": [
        "def gen_rules(k, ck, cp):\n",
        "    \"\"\"\n",
        "    Generate association rules with their confidence\n",
        "    using frequent itemsets of level k and level k-1.\n",
        "\n",
        "    Args:\n",
        "        k (int): Level number.\n",
        "        ck (dict): Frequent Itemsets of level k.\n",
        "        cp (dict): Frequent Itemsets of level k-1 (previous level).\n",
        "\n",
        "    Returns:\n",
        "        list: 2-dim list of top R rules.\n",
        "    \"\"\"\n",
        "    rules = []\n",
        "    for itemset in ck:\n",
        "        sup_lr = ck[itemset]\n",
        "        for left_set in combinations(itemset, k - 1):\n",
        "            left_set = frozenset(left_set)\n",
        "            right = itemset.difference(left_set)\n",
        "            sup_l = cp[left_set if k > 2 else list(left_set)[0]]\n",
        "            conf = sup_lr / sup_l\n",
        "            left = list(left_set)\n",
        "            left.sort()\n",
        "            rules.append([' , '.join(left), *right, conf])\n",
        "    rules = sorted(rules, key=lambda x: x[1])\n",
        "    rules = sorted(rules, key=lambda x: x[2], reverse=True)\n",
        "    return rules[:R]"
      ],
      "metadata": {
        "id": "p4qedM2bVlJL"
      },
      "execution_count": 7,
      "outputs": []
    },
    {
      "cell_type": "code",
      "source": [
        "def print_table(rules):\n",
        "    \"\"\"\n",
        "    Print the rules in a pretty table.\n",
        "\n",
        "    Args:\n",
        "        rules (list): 2-dim list of rules.\n",
        "    \"\"\"\n",
        "    header = ['Left Side of Rule', 'Right Side of Rule', 'Confidence']\n",
        "    rows = [header] + rules\n",
        "    table = tabulate(rows, headers='firstrow', tablefmt='fancy_grid')\n",
        "    print(table)"
      ],
      "metadata": {
        "id": "IjVNn9evVw2L"
      },
      "execution_count": 13,
      "outputs": []
    },
    {
      "cell_type": "code",
      "source": [
        "c1 = freq_itemsets(k=1)\n",
        "c2 = freq_itemsets(k=2, c1=c1, cp=c1)\n",
        "c3 = freq_itemsets(k=3, c1=c1, cp=c2)"
      ],
      "metadata": {
        "id": "bc748awRV3Mi"
      },
      "execution_count": 10,
      "outputs": []
    },
    {
      "cell_type": "code",
      "source": [
        "print_table(gen_rules(k=2, ck=c2, cp=c1))"
      ],
      "metadata": {
        "colab": {
          "base_uri": "https://localhost:8080/"
        },
        "id": "h-zgTLTVWC-a",
        "outputId": "20dff730-d6d9-4625-e5ba-f32f5dd9ba99"
      },
      "execution_count": 14,
      "outputs": [
        {
          "output_type": "stream",
          "name": "stdout",
          "text": [
            "╒══════════════════════╤════════════════════════╤══════════════╕\n",
            "│ Left Side of Rule    │ Right Side of Rule     │   Confidence │\n",
            "╞══════════════════════╪════════════════════════╪══════════════╡\n",
            "│ Dying_Light_2        │ The_Last_of_Us_Part_II │     0.915021 │\n",
            "├──────────────────────┼────────────────────────┼──────────────┤\n",
            "│ ARK:Survival_Evolved │ The_Last_of_Us_Part_II │     0.913667 │\n",
            "├──────────────────────┼────────────────────────┼──────────────┤\n",
            "│ ARK:Survival_Evolved │ GTA_V                  │     0.913616 │\n",
            "├──────────────────────┼────────────────────────┼──────────────┤\n",
            "│ ARK:Survival_Evolved │ UNCHARTED_4            │     0.912544 │\n",
            "├──────────────────────┼────────────────────────┼──────────────┤\n",
            "│ Ghost_of_Tsushima    │ UNCHARTED_4            │     0.911961 │\n",
            "╘══════════════════════╧════════════════════════╧══════════════╛\n"
          ]
        }
      ]
    },
    {
      "cell_type": "code",
      "source": [
        "print_table(gen_rules(k=3, ck=c3, cp=c2))"
      ],
      "metadata": {
        "colab": {
          "base_uri": "https://localhost:8080/"
        },
        "id": "tKD--bMlWFuM",
        "outputId": "0bde118b-77b8-4923-e6ca-a490aafac862"
      },
      "execution_count": 15,
      "outputs": [
        {
          "output_type": "stream",
          "name": "stdout",
          "text": [
            "╒══════════════════════════════════════════════╤════════════════════════╤══════════════╕\n",
            "│ Left Side of Rule                            │ Right Side of Rule     │   Confidence │\n",
            "╞══════════════════════════════════════════════╪════════════════════════╪══════════════╡\n",
            "│ Assassin's_Creed_Odyssey , DAYS_GONE         │ The_Last_of_Us_Part_II │     0.963583 │\n",
            "├──────────────────────────────────────────────┼────────────────────────┼──────────────┤\n",
            "│ A_Way_Out , Ghost_of_Tsushima                │ UNCHARTED_4            │     0.963477 │\n",
            "├──────────────────────────────────────────────┼────────────────────────┼──────────────┤\n",
            "│ Far_Cry_6 , Ghost_of_Tsushima                │ GTA_V                  │     0.963398 │\n",
            "├──────────────────────────────────────────────┼────────────────────────┼──────────────┤\n",
            "│ ARK:Survival_Evolved , Red_Dead_Redemption_2 │ UNCHARTED_4            │     0.963388 │\n",
            "├──────────────────────────────────────────────┼────────────────────────┼──────────────┤\n",
            "│ Ghost_of_Tsushima , Gran_Turismo_7           │ The_Last_of_Us_Part_II │     0.963334 │\n",
            "╘══════════════════════════════════════════════╧════════════════════════╧══════════════╛\n"
          ]
        }
      ]
    }
  ]
}